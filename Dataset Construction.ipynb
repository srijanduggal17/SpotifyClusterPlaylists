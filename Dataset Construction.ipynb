{
 "cells": [
  {
   "cell_type": "markdown",
   "metadata": {},
   "source": [
    "# Dataset Construction"
   ]
  },
  {
   "cell_type": "markdown",
   "metadata": {},
   "source": [
    "Note: to run the code in this notebook, a Spotify API key and account will be needed"
   ]
  },
  {
   "cell_type": "markdown",
   "metadata": {},
   "source": [
    "## Process Overview"
   ]
  },
  {
   "cell_type": "markdown",
   "metadata": {},
   "source": [
    "To construct the dataset, I did the following:\n",
    "1. Get all songs I had saved (Spotify provides an endpoint to do so)\n",
    "2.\tFind the features for each song (Spotify provides an endpoint to do so)"
   ]
  },
  {
   "cell_type": "markdown",
   "metadata": {},
   "source": [
    "### Imports and API Preparation"
   ]
  },
  {
   "cell_type": "code",
   "execution_count": 2,
   "metadata": {},
   "outputs": [],
   "source": [
    "import sys\n",
    "import spotipy\n",
    "import spotipy.util as util\n",
    "import requests\n",
    "import json\n",
    "import pandas as pd\n",
    "import numpy as np\n",
    "\n",
    "# Declare API access keys and request information\n",
    "scope = 'user-library-read'\n",
    "username = 'srijanduggal17'\n",
    "client_id = ''\n",
    "client_secret = ''\n",
    "redirect_uri = 'http://localhost/'\n",
    "\n",
    "token = util.prompt_for_user_token(username,scope,client_id=client_id,client_secret=client_secret,redirect_uri=redirect_uri)\n",
    "\n",
    "if token:\n",
    "    sp = spotipy.Spotify(auth=token)\n",
    "else:\n",
    "    print(\"Can't get token for\", username)"
   ]
  },
  {
   "cell_type": "markdown",
   "metadata": {},
   "source": [
    "### Obtain Songs I have Listened To"
   ]
  },
  {
   "cell_type": "markdown",
   "metadata": {},
   "source": [
    "Get total number of songs in my library"
   ]
  },
  {
   "cell_type": "code",
   "execution_count": 14,
   "metadata": {},
   "outputs": [
    {
     "name": "stdout",
     "output_type": "stream",
     "text": [
      "Total Tracks: 2156\n"
     ]
    }
   ],
   "source": [
    "nextOffset = 0\n",
    "nextLimit = 50\n",
    "\n",
    "results = sp.current_user_saved_tracks(limit=nextLimit, offset=nextOffset)\n",
    "print('Total Tracks: {}'.format(results['total']))"
   ]
  },
  {
   "cell_type": "markdown",
   "metadata": {},
   "source": [
    "Get song id and names for all songs in my library"
   ]
  },
  {
   "cell_type": "code",
   "execution_count": 15,
   "metadata": {},
   "outputs": [],
   "source": [
    "# Create DataFrame to store results\n",
    "df_my_songs = pd.DataFrame(columns=['song_uri', 'name'])\n",
    "\n",
    "# Add results of initial request to DataFrame\n",
    "for item in results['items']:\n",
    "    df_my_songs = df_my_songs.append({\n",
    "        'song_uri': item['track']['id'],\n",
    "        'name': item['track']['name']\n",
    "    }, ignore_index=True)\n",
    "nextOffset += nextLimit\n",
    "\n",
    "# Continue requesting song and names for all songs\n",
    "while (results['next'] != None): \n",
    "    results = sp.current_user_saved_tracks(limit=nextLimit, offset=nextOffset)\n",
    "    for item in results['items']:\n",
    "        df_my_songs = df_my_songs.append({\n",
    "            'song_uri': item['track']['id'],\n",
    "            'name': item['track']['name']\n",
    "        }, ignore_index=True)\n",
    "    nextOffset += nextLimit"
   ]
  },
  {
   "cell_type": "markdown",
   "metadata": {},
   "source": [
    "Inspect results"
   ]
  },
  {
   "cell_type": "code",
   "execution_count": 16,
   "metadata": {},
   "outputs": [
    {
     "name": "stdout",
     "output_type": "stream",
     "text": [
      "                 song_uri                     name\n",
      "0  3TMUdD9vE4DoqDYi7VXStt              Fool's Gold\n",
      "1  3TKpJrY9q49Mj1JOsM9zGL                   Family\n",
      "2  0CJvDUBeEL1Rmpx7MH28CQ                  For You\n",
      "3  3GRSqlALWISqLeNncZMbpX                  Mean It\n",
      "4  1yTTMcUhL7rtz08Dsgb7Qb  The Bones - with Hozier\n"
     ]
    }
   ],
   "source": [
    "print(df_my_songs.head())"
   ]
  },
  {
   "cell_type": "markdown",
   "metadata": {},
   "source": [
    "### Get Audio Features"
   ]
  },
  {
   "cell_type": "code",
   "execution_count": 20,
   "metadata": {},
   "outputs": [],
   "source": [
    "savedSongIds = list(df_my_songs.song_uri)\n",
    "\n",
    "# Create DataFrame to store features for saved songs\n",
    "exampleObj = sp.audio_features(savedSongIds[0])\n",
    "df_saved_songs = pd.DataFrame(exampleObj)\n",
    "\n",
    "startNdx = 1\n",
    "endNdx = 51\n",
    "nextList = savedSongIds[startNdx:endNdx]\n",
    "\n",
    "# Get features for each song\n",
    "while (endNdx < len(savedSongIds)):\n",
    "    audio_features = sp.audio_features(nextList)\n",
    "    df_saved_songs = df_saved_songs.append(audio_features, ignore_index=True)\n",
    "    startNdx = endNdx\n",
    "    endNdx += 50\n",
    "    nextList = savedSongIds[startNdx:endNdx]\n",
    "\n",
    "nextList = savedSongIds[startNdx:]\n",
    "audio_features = sp.audio_features(nextList)\n",
    "df_saved_songs = df_saved_songs.append(audio_features, ignore_index=True)"
   ]
  },
  {
   "cell_type": "markdown",
   "metadata": {},
   "source": [
    "## Combine into Dataset"
   ]
  },
  {
   "cell_type": "code",
   "execution_count": 32,
   "metadata": {},
   "outputs": [
    {
     "name": "stdout",
     "output_type": "stream",
     "text": [
      "Shape of Dataset (2156, 15)\n",
      "   danceability  energy  key  loudness  speechiness  acousticness  \\\n",
      "0         0.680   0.729    7    -5.097       0.0418        0.3670   \n",
      "1         0.584   0.607   11    -6.605       0.0356        0.4260   \n",
      "2         0.703   0.643    7    -5.544       0.0706        0.1920   \n",
      "3         0.746   0.450    7    -8.543       0.0872        0.0407   \n",
      "4         0.561   0.597   11    -6.000       0.0405        0.2860   \n",
      "\n",
      "   instrumentalness  liveness  valence    tempo  time_signature  \\\n",
      "0               0.0    0.1590    0.830  120.029               4   \n",
      "1               0.0    0.1010    0.374  117.817               4   \n",
      "2               0.0    0.1430    0.528  102.059               4   \n",
      "3               0.0    0.1720    0.336   95.998               4   \n",
      "4               0.0    0.0979    0.355   76.826               4   \n",
      "\n",
      "                 song_uri                     name  mode_major  mode_minor  \n",
      "0  3TMUdD9vE4DoqDYi7VXStt              Fool's Gold           1           0  \n",
      "1  3TKpJrY9q49Mj1JOsM9zGL                   Family           1           0  \n",
      "2  0CJvDUBeEL1Rmpx7MH28CQ                  For You           1           0  \n",
      "3  3GRSqlALWISqLeNncZMbpX                  Mean It           1           0  \n",
      "4  1yTTMcUhL7rtz08Dsgb7Qb  The Bones - with Hozier           0           1  \n"
     ]
    }
   ],
   "source": [
    "df = df_saved_songs.copy()\n",
    "\n",
    "# Add names\n",
    "df = pd.merge(df, df_my_songs, left_on='id', right_on='song_uri', how='left')\n",
    "\n",
    "# Encode Mode variable\n",
    "df['mode_major'] = df['mode']\n",
    "df['mode_minor'] = 1 - df['mode']\n",
    "\n",
    "\n",
    "# # Drop unnecessary columns\n",
    "df = df.drop(columns=['type', 'uri', 'track_href', 'analysis_url', 'duration_ms', 'mode', 'id'])\n",
    "\n",
    "print('Shape of Dataset {}'.format(df.shape))\n",
    "print(df.head())"
   ]
  },
  {
   "cell_type": "markdown",
   "metadata": {},
   "source": [
    "Export Data"
   ]
  },
  {
   "cell_type": "code",
   "execution_count": 33,
   "metadata": {},
   "outputs": [],
   "source": [
    "df.to_csv('dataset.csv', index=False)"
   ]
  }
 ],
 "metadata": {
  "kernelspec": {
   "display_name": "Python 3",
   "language": "python",
   "name": "python3"
  },
  "language_info": {
   "codemirror_mode": {
    "name": "ipython",
    "version": 3
   },
   "file_extension": ".py",
   "mimetype": "text/x-python",
   "name": "python",
   "nbconvert_exporter": "python",
   "pygments_lexer": "ipython3",
   "version": "3.7.4"
  }
 },
 "nbformat": 4,
 "nbformat_minor": 4
}
