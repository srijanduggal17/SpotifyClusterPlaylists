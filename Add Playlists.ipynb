{
 "cells": [
  {
   "cell_type": "markdown",
   "metadata": {},
   "source": [
    "### Purpose"
   ]
  },
  {
   "cell_type": "markdown",
   "metadata": {},
   "source": [
    "The purpose of this notebook is to create spotify playlists from the clusters we found.<br>\n",
    "Note: to run the code in this notebook, a Spotify API key and account will be needed"
   ]
  },
  {
   "cell_type": "markdown",
   "metadata": {},
   "source": [
    "### Imports and API Preparation"
   ]
  },
  {
   "cell_type": "code",
   "execution_count": 17,
   "metadata": {},
   "outputs": [
    {
     "name": "stdout",
     "output_type": "stream",
     "text": [
      "\n",
      "\n",
      "            User authentication requires interaction with your\n",
      "            web browser. Once you enter your credentials and\n",
      "            give authorization, you will be redirected to\n",
      "            a url.  Paste that url you were directed to to\n",
      "            complete the authorization.\n",
      "\n",
      "        \n",
      "Opened https://accounts.spotify.com/authorize?client_id=f06d740e5c1d428c8f3b810db631b4b3&response_type=code&redirect_uri=http%3A%2F%2Flocalhost%2F&scope=playlist-modify-public+user-library-read in your browser\n",
      "\n",
      "\n"
     ]
    },
    {
     "name": "stdin",
     "output_type": "stream",
     "text": [
      "Enter the URL you were redirected to:  http://localhost/?code=AQD2wdM-6REosLcRCSbgBXDUUxuxPCx5z-8XVlxGNx5pMaz02hWOP3u6Y2q5EzjVH3PAdF2wQT-LZ-jkH9kABZsWZ3pnlbDnO6lNdxQeatvA8IaSAVugGM9saUh0IVKaswiFsJ78wia3UUxFENWUNzndaDpQ-7_XJaIKykz8vh-Hl0e2te4TQKi5WSa4QysWXWlrotcuEY854xkmsC-Q9bjUiEczNbfIKiWfbkGmil_T9w\n"
     ]
    },
    {
     "name": "stdout",
     "output_type": "stream",
     "text": [
      "\n",
      "\n"
     ]
    }
   ],
   "source": [
    "import sys\n",
    "import spotipy\n",
    "import spotipy.util as util\n",
    "import requests\n",
    "import json\n",
    "import pandas as pd\n",
    "import numpy as np\n",
    "\n",
    "# Declare API access keys and request information\n",
    "scope = 'user-library-read playlist-modify-public'\n",
    "username = 'srijanduggal17'\n",
    "client_id = ''\n",
    "client_secret = ''\n",
    "redirect_uri = 'http://localhost/'\n",
    "\n",
    "token = util.prompt_for_user_token(username,scope,client_id=client_id,client_secret=client_secret,redirect_uri=redirect_uri)\n",
    "\n",
    "if token:\n",
    "    sp = spotipy.Spotify(auth=token)\n",
    "else:\n",
    "    print(\"Can't get token for\", username)"
   ]
  },
  {
   "cell_type": "markdown",
   "metadata": {},
   "source": [
    "Mean Shift Bandwidth 2 Results"
   ]
  },
  {
   "cell_type": "code",
   "execution_count": 18,
   "metadata": {},
   "outputs": [
    {
     "name": "stdout",
     "output_type": "stream",
     "text": [
      "                 song_uri                name  cluster\n",
      "0  3TMUdD9vE4DoqDYi7VXStt         Fool's Gold        7\n",
      "1  3GRSqlALWISqLeNncZMbpX             Mean It        1\n",
      "2  649o53ULWYN1y7V2OI5kgo  Heat of the Summer       26\n",
      "3  2a3dopgTF1q4rMVDJ1rwBU        Push My Luck        3\n",
      "4  5n0CTysih20NYdT2S0Wpe8             Trouble      105\n"
     ]
    }
   ],
   "source": [
    "clustered_data = pd.read_csv('MeanShift Results/bw_2.csv', usecols=[1,2,3])\n",
    "print(clustered_data.head())"
   ]
  },
  {
   "cell_type": "code",
   "execution_count": 19,
   "metadata": {},
   "outputs": [
    {
     "name": "stdout",
     "output_type": "stream",
     "text": [
      "{0, 1, 2, 3, 4, 5, 6, 7, 8, 9, 10, 11, 12, 13, 14, 15, 16, 17, 18, 22, 23, 26, 27, 30, 33, 35, 36, 37, 40, 45, 46, 50, 53, 57, 58, 105}\n"
     ]
    }
   ],
   "source": [
    "clusters = set(clustered_data.cluster.values)\n",
    "print(clusters)"
   ]
  },
  {
   "cell_type": "code",
   "execution_count": 23,
   "metadata": {},
   "outputs": [],
   "source": [
    "userid = sp.current_user()['id']\n",
    "\n",
    "for cluster in clusters:\n",
    "    tracks = clustered_data[clustered_data['cluster'] == cluster].song_uri.values\n",
    "    playlist = sp.user_playlist_create(userid, 'Cluster {}'.format(cluster))\n",
    "    playlistid = playlist['id']\n",
    "    sp.user_playlist_add_tracks(userid, playlistid, tracks)"
   ]
  },
  {
   "cell_type": "code",
   "execution_count": 25,
   "metadata": {},
   "outputs": [
    {
     "name": "stdout",
     "output_type": "stream",
     "text": [
      "                 song_uri          name  cluster\n",
      "0  3GRSqlALWISqLeNncZMbpX       Mean It        0\n",
      "1  2a3dopgTF1q4rMVDJ1rwBU  Push My Luck        5\n",
      "2  3eRUV5XlsGW72Q7hcneLpY      Senorita        1\n",
      "3  2xrW6sZRmahuSAQMxO4BmJ          Rush        2\n",
      "4  14KP6cmTImZmrcAC5m0Azd  Call Me Back        2\n"
     ]
    }
   ],
   "source": [
    "dbscan_dataset_1 = pd.read_csv('DBSCAN Results/clustered_5.csv', usecols=[1,2,3])\n",
    "print(dbscan_dataset_1.head())"
   ]
  },
  {
   "cell_type": "code",
   "execution_count": 26,
   "metadata": {},
   "outputs": [
    {
     "data": {
      "text/plain": [
       "{'snapshot_id': 'MiwxZmE2NTRkYWU1YmNjMmM5NjdlNzEwYTFiNmQ5MTI0MmUzOGQxZjk4'}"
      ]
     },
     "execution_count": 26,
     "metadata": {},
     "output_type": "execute_result"
    }
   ],
   "source": [
    "cluster_5_tracks = dbscan_dataset_1[dbscan_dataset_1.cluster == 5].song_uri.values\n",
    "cluster_5_playlist = sp.user_playlist_create(userid, 'DBSCAN Cluster 5')\n",
    "cluster_5_playlistid = cluster_5_playlist['id']\n",
    "sp.user_playlist_add_tracks(userid, cluster_5_playlistid, cluster_5_tracks)"
   ]
  },
  {
   "cell_type": "code",
   "execution_count": 27,
   "metadata": {},
   "outputs": [
    {
     "name": "stdout",
     "output_type": "stream",
     "text": [
      "                 song_uri         name  cluster\n",
      "0  3TMUdD9vE4DoqDYi7VXStt  Fool's Gold        0\n",
      "1  3TKpJrY9q49Mj1JOsM9zGL       Family        0\n",
      "2  0CJvDUBeEL1Rmpx7MH28CQ      For You        0\n",
      "3  3GRSqlALWISqLeNncZMbpX      Mean It        0\n",
      "4  6UjZ2Yx2g2a52XxiA8ONxZ  Outnumbered        1\n"
     ]
    }
   ],
   "source": [
    "dbscan_dataset_2 = pd.read_csv('DBSCAN Results/clustered_6.csv', usecols=[1,2,3])\n",
    "print(dbscan_dataset_2.head())"
   ]
  },
  {
   "cell_type": "code",
   "execution_count": 28,
   "metadata": {},
   "outputs": [],
   "source": [
    "set2_clusters = [1,8,9]\n",
    "for cluster in set2_clusters:\n",
    "    tracks = dbscan_dataset_2[dbscan_dataset_2['cluster'] == cluster].song_uri.values\n",
    "    playlist = sp.user_playlist_create(userid, 'DBSCAN Cluster {}'.format(cluster))\n",
    "    playlistid = playlist['id']\n",
    "    sp.user_playlist_add_tracks(userid, playlistid, tracks)"
   ]
  }
 ],
 "metadata": {
  "kernelspec": {
   "display_name": "Python 3",
   "language": "python",
   "name": "python3"
  },
  "language_info": {
   "codemirror_mode": {
    "name": "ipython",
    "version": 3
   },
   "file_extension": ".py",
   "mimetype": "text/x-python",
   "name": "python",
   "nbconvert_exporter": "python",
   "pygments_lexer": "ipython3",
   "version": "3.7.4"
  }
 },
 "nbformat": 4,
 "nbformat_minor": 4
}
